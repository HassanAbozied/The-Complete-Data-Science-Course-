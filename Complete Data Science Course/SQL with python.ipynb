{
 "cells": [
  {
   "cell_type": "code",
   "execution_count": null,
   "id": "fc1ba883",
   "metadata": {},
   "outputs": [],
   "source": [
    "pip3 install pandas"
   ]
  },
  {
   "cell_type": "code",
   "execution_count": null,
   "id": "e8138ae1",
   "metadata": {},
   "outputs": [],
   "source": [
    "pip3 install beautifulsoup4"
   ]
  },
  {
   "cell_type": "code",
   "execution_count": 18,
   "id": "8e156f03",
   "metadata": {},
   "outputs": [],
   "source": [
    "import pandas as pd \n",
    "import numpy as np \n",
    "import requests\n",
    "import sqlite3\n",
    "from bs4 import BeautifulSoup\n",
    "from datetime import datetime"
   ]
  },
  {
   "cell_type": "code",
   "execution_count": 19,
   "id": "cae4abaa",
   "metadata": {},
   "outputs": [],
   "source": [
    "def extract(url, table_attribs):\n",
    "    df = pd.DataFrame(columns = table_attribs)\n",
    "\n",
    "    page = requests.get(url).text\n",
    "    data = BeautifulSoup(page, 'html.parser')\n",
    "\n",
    "    tables = data.find_all('tbody')[0]\n",
    "    rows = tables.find_all('tr')\n",
    "\n",
    "    for row in rows:\n",
    "        col = row.find_all('td')\n",
    "        if len(col) != 0:\n",
    "            ancher_data = col[1].find_all('a')[1]\n",
    "            if ancher_data is not None:\n",
    "                data_dict = {\n",
    "                    'Name': ancher_data.contents[0],\n",
    "                    'MC_USD_Billion': col[2].contents[0]\n",
    "                }\n",
    "                df1 = pd.DataFrame(data_dict, index = [0])\n",
    "                df = pd.concat([df, df1], ignore_index = True)\n",
    "\n",
    "    USD_list = list(df['MC_USD_Billion'])\n",
    "    USD_list = [float(''.join(x.split('\\n'))) for x in USD_list]\n",
    "    df['MC_USD_Billion'] = USD_list\n",
    "\n",
    "    return df"
   ]
  },
  {
   "cell_type": "code",
   "execution_count": 20,
   "id": "1ff979a1",
   "metadata": {},
   "outputs": [],
   "source": [
    "def transform(df, exchange_rate_path):\n",
    "    csvfile = pd.read_csv(exchange_rate_path)\n",
    "\n",
    "    # i made here the content for currenct is the keys and the content of \n",
    "    # the rate is the values to the crossponding keys\n",
    "    dict = csvfile.set_index('Currency').to_dict()['Rate']\n",
    "\n",
    "    df['MC_GBP_Billion'] = [np.round(x * dict['GBP'],2) for x in df['MC_USD_Billion']]\n",
    "    df['MC_INR_Billion'] = [np.round(x * dict['INR'],2) for x in df['MC_USD_Billion']]\n",
    "    df['MC_EUR_Billion'] = [np.round(x * dict['EUR'],2) for x in df['MC_USD_Billion']]\n",
    "\n",
    "    return df"
   ]
  },
  {
   "cell_type": "code",
   "execution_count": 21,
   "id": "dcf3551f",
   "metadata": {},
   "outputs": [],
   "source": [
    "def load_to_csv(df, output_path):\n",
    "    df.to_csv(output_path)"
   ]
  },
  {
   "cell_type": "code",
   "execution_count": 22,
   "id": "43f43caf",
   "metadata": {},
   "outputs": [],
   "source": [
    "def load_to_db(df, sql_connection, table_name):\n",
    "    df.to_sql(table_name, sql_connection, if_exists = 'replace', index = False)"
   ]
  },
  {
   "cell_type": "code",
   "execution_count": 23,
   "id": "3a0c7440",
   "metadata": {},
   "outputs": [],
   "source": [
    "def run_query(query_statements, sql_connection):\n",
    "    for query in query_statements:\n",
    "        print(query)\n",
    "        print(pd.read_sql(query, sql_connection), '\\n')"
   ]
  },
  {
   "cell_type": "code",
   "execution_count": 24,
   "id": "8688f51d",
   "metadata": {},
   "outputs": [],
   "source": [
    "def log_progress(msg):\n",
    "    timeformat = '%Y-%h-%d-%H:%M:%S'\n",
    "    now = datetime.now()\n",
    "    timestamp = now.strftime(timeformat)\n",
    "\n",
    "    with open(logfile, 'a') as f:\n",
    "        f.write(timestamp + ' : ' + msg + '\\n')"
   ]
  },
  {
   "cell_type": "code",
   "execution_count": 26,
   "id": "146d8c2c",
   "metadata": {
    "scrolled": false
   },
   "outputs": [
    {
     "name": "stdout",
     "output_type": "stream",
     "text": [
      "SELECT * FROM Largest_banks\n",
      "                                      Name  MC_USD_Billion  MC_GBP_Billion  \\\n",
      "0                           JPMorgan Chase          432.92          346.34   \n",
      "1                          Bank of America          231.52          185.22   \n",
      "2  Industrial and Commercial Bank of China          194.56          155.65   \n",
      "3               Agricultural Bank of China          160.68          128.54   \n",
      "4                                HDFC Bank          157.91          126.33   \n",
      "5                              Wells Fargo          155.87          124.70   \n",
      "6                        HSBC Holdings PLC          148.90          119.12   \n",
      "7                           Morgan Stanley          140.83          112.66   \n",
      "8                  China Construction Bank          139.82          111.86   \n",
      "9                            Bank of China          136.81          109.45   \n",
      "\n",
      "   MC_INR_Billion  MC_EUR_Billion  \n",
      "0        35910.71          402.62  \n",
      "1        19204.58          215.31  \n",
      "2        16138.75          180.94  \n",
      "3        13328.41          149.43  \n",
      "4        13098.63          146.86  \n",
      "5        12929.42          144.96  \n",
      "6        12351.26          138.48  \n",
      "7        11681.85          130.97  \n",
      "8        11598.07          130.03  \n",
      "9        11348.39          127.23   \n",
      "\n",
      "SELECT AVG(MC_GBP_Billion) FROM Largest_banks\n",
      "   AVG(MC_GBP_Billion)\n",
      "0              151.987 \n",
      "\n",
      "SELECT Name from Largest_banks LIMIT 5\n",
      "                                      Name\n",
      "0                           JPMorgan Chase\n",
      "1                          Bank of America\n",
      "2  Industrial and Commercial Bank of China\n",
      "3               Agricultural Bank of China\n",
      "4                                HDFC Bank \n",
      "\n"
     ]
    }
   ],
   "source": [
    "url = 'https://web.archive.org/web/20230908091635/https://en.wikipedia.org/wiki/List_of_largest_banks'\n",
    "exchange_rate_path = r'C:\\Users\\hassan21\\Downloads\\exchange_rate.csv'\n",
    "\n",
    "table_attribs = ['Name', 'MC_USD_Billion']\n",
    "db_name = 'Banks.db'\n",
    "table_name = 'Largest_banks'\n",
    "conn = sqlite3.connect(db_name)\n",
    "query_statements = [\n",
    "        'SELECT * FROM Largest_banks',\n",
    "        'SELECT AVG(MC_GBP_Billion) FROM Largest_banks',\n",
    "        'SELECT Name from Largest_banks LIMIT 5'\n",
    "    ]\n",
    "\n",
    "logfile = 'code_log.txt'\n",
    "output_csv_path = 'Largest_banks_data.csv'\n",
    "\n",
    "log_progress('Preliminaries complete. Initiating ETL process.')\n",
    "\n",
    "df = extract(url, table_attribs)\n",
    "log_progress('Data extraction complete. Initiating Transformation process.')\n",
    "\n",
    "\n",
    "df = transform(df, exchange_rate_path)\n",
    "log_progress('Data transformation complete. Initiating loading process.')\n",
    "\n",
    "load_to_csv(df, output_csv_path)\n",
    "log_progress('Data saved to CSV file.')\n",
    "\n",
    "log_progress('SQL Connection initiated.')\n",
    "\n",
    "\n",
    "load_to_db(df, conn, table_name)\n",
    "log_progress('Data loaded to Database as table. Running the query.')\n",
    "\n",
    "run_query(query_statements, conn)\n",
    "conn.close()\n",
    "log_progress('Process Complete.')"
   ]
  },
  {
   "cell_type": "code",
   "execution_count": null,
   "id": "5a07f13a",
   "metadata": {},
   "outputs": [],
   "source": []
  }
 ],
 "metadata": {
  "kernelspec": {
   "display_name": "Python 3 (ipykernel)",
   "language": "python",
   "name": "python3"
  },
  "language_info": {
   "codemirror_mode": {
    "name": "ipython",
    "version": 3
   },
   "file_extension": ".py",
   "mimetype": "text/x-python",
   "name": "python",
   "nbconvert_exporter": "python",
   "pygments_lexer": "ipython3",
   "version": "3.9.13"
  }
 },
 "nbformat": 4,
 "nbformat_minor": 5
}
