{
 "cells": [
  {
   "cell_type": "code",
   "execution_count": 3,
   "id": "74ce618d",
   "metadata": {},
   "outputs": [],
   "source": [
    "import numpy as np \n",
    "import matplotlib.pyplot as plt\n",
    "import tensorflow as tf "
   ]
  },
  {
   "cell_type": "markdown",
   "id": "90012d8c",
   "metadata": {},
   "source": [
    "## Data generation "
   ]
  },
  {
   "cell_type": "code",
   "execution_count": 5,
   "id": "d9de893f",
   "metadata": {},
   "outputs": [],
   "source": [
    "observations = 1000\n",
    "xs = np.random.uniform(low=-10, high=10, size=(observations,1))\n",
    "zs = np.random.uniform(-10,10,(observations,1))\n",
    "\n",
    "generated_inputs = np.column_stack((xs,zs))\n",
    "\n",
    "noise = np.random.uniform(-1,1,(observations,1))\n",
    "\n",
    "generated_targets = 2*xs - 3*zs + 5 + noise\n",
    "\n",
    "np.savez('TF_intro', inputs=generated_inputs, targets =generated_targets)"
   ]
  },
  {
   "cell_type": "markdown",
   "id": "292576d4",
   "metadata": {},
   "source": [
    "## Solving with Tensorflow "
   ]
  },
  {
   "cell_type": "code",
   "execution_count": 6,
   "id": "51890228",
   "metadata": {},
   "outputs": [],
   "source": [
    "training_data = np.load('TF_intro.npz')"
   ]
  },
  {
   "cell_type": "code",
   "execution_count": 10,
   "id": "620191bc",
   "metadata": {},
   "outputs": [
    {
     "name": "stdout",
     "output_type": "stream",
     "text": [
      "WARNING:tensorflow:From C:\\Users\\hassan21\\AppData\\Roaming\\Python\\Python39\\site-packages\\keras\\src\\backend.py:873: The name tf.get_default_graph is deprecated. Please use tf.compat.v1.get_default_graph instead.\n",
      "\n",
      "WARNING:tensorflow:From C:\\Users\\hassan21\\AppData\\Roaming\\Python\\Python39\\site-packages\\keras\\src\\optimizers\\__init__.py:309: The name tf.train.Optimizer is deprecated. Please use tf.compat.v1.train.Optimizer instead.\n",
      "\n",
      "Epoch 1/100\n",
      "WARNING:tensorflow:From C:\\Users\\hassan21\\AppData\\Roaming\\Python\\Python39\\site-packages\\keras\\src\\utils\\tf_utils.py:492: The name tf.ragged.RaggedTensorValue is deprecated. Please use tf.compat.v1.ragged.RaggedTensorValue instead.\n",
      "\n",
      "32/32 - 1s - loss: 29.9681 - 735ms/epoch - 23ms/step\n",
      "Epoch 2/100\n",
      "32/32 - 0s - loss: 4.5729 - 36ms/epoch - 1ms/step\n",
      "Epoch 3/100\n",
      "32/32 - 0s - loss: 1.5050 - 36ms/epoch - 1ms/step\n",
      "Epoch 4/100\n",
      "32/32 - 0s - loss: 0.6536 - 31ms/epoch - 969us/step\n",
      "Epoch 5/100\n",
      "32/32 - 0s - loss: 0.4266 - 31ms/epoch - 969us/step\n",
      "Epoch 6/100\n",
      "32/32 - 0s - loss: 0.3613 - 29ms/epoch - 907us/step\n",
      "Epoch 7/100\n",
      "32/32 - 0s - loss: 0.3537 - 35ms/epoch - 1ms/step\n",
      "Epoch 8/100\n",
      "32/32 - 0s - loss: 0.3439 - 34ms/epoch - 1ms/step\n",
      "Epoch 9/100\n",
      "32/32 - 0s - loss: 0.3424 - 34ms/epoch - 1ms/step\n",
      "Epoch 10/100\n",
      "32/32 - 0s - loss: 0.3464 - 33ms/epoch - 1ms/step\n",
      "Epoch 11/100\n",
      "32/32 - 0s - loss: 0.3412 - 35ms/epoch - 1ms/step\n",
      "Epoch 12/100\n",
      "32/32 - 0s - loss: 0.3525 - 32ms/epoch - 1ms/step\n",
      "Epoch 13/100\n",
      "32/32 - 0s - loss: 0.3471 - 33ms/epoch - 1ms/step\n",
      "Epoch 14/100\n",
      "32/32 - 0s - loss: 0.3463 - 33ms/epoch - 1ms/step\n",
      "Epoch 15/100\n",
      "32/32 - 0s - loss: 0.3360 - 33ms/epoch - 1ms/step\n",
      "Epoch 16/100\n",
      "32/32 - 0s - loss: 0.3434 - 32ms/epoch - 1ms/step\n",
      "Epoch 17/100\n",
      "32/32 - 0s - loss: 0.3464 - 34ms/epoch - 1ms/step\n",
      "Epoch 18/100\n",
      "32/32 - 0s - loss: 0.3512 - 34ms/epoch - 1ms/step\n",
      "Epoch 19/100\n",
      "32/32 - 0s - loss: 0.3394 - 32ms/epoch - 1ms/step\n",
      "Epoch 20/100\n",
      "32/32 - 0s - loss: 0.3457 - 33ms/epoch - 1ms/step\n",
      "Epoch 21/100\n",
      "32/32 - 0s - loss: 0.3457 - 33ms/epoch - 1ms/step\n",
      "Epoch 22/100\n",
      "32/32 - 0s - loss: 0.3399 - 36ms/epoch - 1ms/step\n",
      "Epoch 23/100\n",
      "32/32 - 0s - loss: 0.3432 - 38ms/epoch - 1ms/step\n",
      "Epoch 24/100\n",
      "32/32 - 0s - loss: 0.3436 - 32ms/epoch - 1ms/step\n",
      "Epoch 25/100\n",
      "32/32 - 0s - loss: 0.3486 - 37ms/epoch - 1ms/step\n",
      "Epoch 26/100\n",
      "32/32 - 0s - loss: 0.3471 - 35ms/epoch - 1ms/step\n",
      "Epoch 27/100\n",
      "32/32 - 0s - loss: 0.3453 - 34ms/epoch - 1ms/step\n",
      "Epoch 28/100\n",
      "32/32 - 0s - loss: 0.3421 - 33ms/epoch - 1ms/step\n",
      "Epoch 29/100\n",
      "32/32 - 0s - loss: 0.3408 - 33ms/epoch - 1ms/step\n",
      "Epoch 30/100\n",
      "32/32 - 0s - loss: 0.3415 - 30ms/epoch - 938us/step\n",
      "Epoch 31/100\n",
      "32/32 - 0s - loss: 0.3416 - 32ms/epoch - 995us/step\n",
      "Epoch 32/100\n",
      "32/32 - 0s - loss: 0.3530 - 33ms/epoch - 1ms/step\n",
      "Epoch 33/100\n",
      "32/32 - 0s - loss: 0.3409 - 36ms/epoch - 1ms/step\n",
      "Epoch 34/100\n",
      "32/32 - 0s - loss: 0.3444 - 31ms/epoch - 969us/step\n",
      "Epoch 35/100\n",
      "32/32 - 0s - loss: 0.3410 - 34ms/epoch - 1ms/step\n",
      "Epoch 36/100\n",
      "32/32 - 0s - loss: 0.3420 - 36ms/epoch - 1ms/step\n",
      "Epoch 37/100\n",
      "32/32 - 0s - loss: 0.3482 - 34ms/epoch - 1ms/step\n",
      "Epoch 38/100\n",
      "32/32 - 0s - loss: 0.3394 - 33ms/epoch - 1ms/step\n",
      "Epoch 39/100\n",
      "32/32 - 0s - loss: 0.3429 - 34ms/epoch - 1ms/step\n",
      "Epoch 40/100\n",
      "32/32 - 0s - loss: 0.3438 - 32ms/epoch - 1ms/step\n",
      "Epoch 41/100\n",
      "32/32 - 0s - loss: 0.3478 - 32ms/epoch - 1ms/step\n",
      "Epoch 42/100\n",
      "32/32 - 0s - loss: 0.3424 - 34ms/epoch - 1ms/step\n",
      "Epoch 43/100\n",
      "32/32 - 0s - loss: 0.3382 - 34ms/epoch - 1ms/step\n",
      "Epoch 44/100\n",
      "32/32 - 0s - loss: 0.3468 - 31ms/epoch - 969us/step\n",
      "Epoch 45/100\n",
      "32/32 - 0s - loss: 0.3455 - 31ms/epoch - 979us/step\n",
      "Epoch 46/100\n",
      "32/32 - 0s - loss: 0.3415 - 33ms/epoch - 1ms/step\n",
      "Epoch 47/100\n",
      "32/32 - 0s - loss: 0.3438 - 30ms/epoch - 937us/step\n",
      "Epoch 48/100\n",
      "32/32 - 0s - loss: 0.3430 - 35ms/epoch - 1ms/step\n",
      "Epoch 49/100\n",
      "32/32 - 0s - loss: 0.3435 - 30ms/epoch - 938us/step\n",
      "Epoch 50/100\n",
      "32/32 - 0s - loss: 0.3436 - 32ms/epoch - 1ms/step\n",
      "Epoch 51/100\n",
      "32/32 - 0s - loss: 0.3395 - 32ms/epoch - 1ms/step\n",
      "Epoch 52/100\n",
      "32/32 - 0s - loss: 0.3442 - 33ms/epoch - 1ms/step\n",
      "Epoch 53/100\n",
      "32/32 - 0s - loss: 0.3514 - 37ms/epoch - 1ms/step\n",
      "Epoch 54/100\n",
      "32/32 - 0s - loss: 0.3500 - 36ms/epoch - 1ms/step\n",
      "Epoch 55/100\n",
      "32/32 - 0s - loss: 0.3456 - 34ms/epoch - 1ms/step\n",
      "Epoch 56/100\n",
      "32/32 - 0s - loss: 0.3472 - 30ms/epoch - 938us/step\n",
      "Epoch 57/100\n",
      "32/32 - 0s - loss: 0.3501 - 32ms/epoch - 1ms/step\n",
      "Epoch 58/100\n",
      "32/32 - 0s - loss: 0.3441 - 33ms/epoch - 1ms/step\n",
      "Epoch 59/100\n",
      "32/32 - 0s - loss: 0.3406 - 32ms/epoch - 1ms/step\n",
      "Epoch 60/100\n",
      "32/32 - 0s - loss: 0.3461 - 32ms/epoch - 1ms/step\n",
      "Epoch 61/100\n",
      "32/32 - 0s - loss: 0.3455 - 31ms/epoch - 969us/step\n",
      "Epoch 62/100\n",
      "32/32 - 0s - loss: 0.3457 - 29ms/epoch - 907us/step\n",
      "Epoch 63/100\n",
      "32/32 - 0s - loss: 0.3405 - 31ms/epoch - 969us/step\n",
      "Epoch 64/100\n",
      "32/32 - 0s - loss: 0.3410 - 31ms/epoch - 969us/step\n",
      "Epoch 65/100\n",
      "32/32 - 0s - loss: 0.3458 - 35ms/epoch - 1ms/step\n",
      "Epoch 66/100\n",
      "32/32 - 0s - loss: 0.3456 - 34ms/epoch - 1ms/step\n",
      "Epoch 67/100\n",
      "32/32 - 0s - loss: 0.3433 - 30ms/epoch - 938us/step\n",
      "Epoch 68/100\n",
      "32/32 - 0s - loss: 0.3483 - 31ms/epoch - 954us/step\n",
      "Epoch 69/100\n",
      "32/32 - 0s - loss: 0.3433 - 32ms/epoch - 1ms/step\n",
      "Epoch 70/100\n",
      "32/32 - 0s - loss: 0.3411 - 34ms/epoch - 1ms/step\n",
      "Epoch 71/100\n",
      "32/32 - 0s - loss: 0.3393 - 33ms/epoch - 1ms/step\n",
      "Epoch 72/100\n",
      "32/32 - 0s - loss: 0.3428 - 31ms/epoch - 969us/step\n",
      "Epoch 73/100\n",
      "32/32 - 0s - loss: 0.3442 - 33ms/epoch - 1ms/step\n",
      "Epoch 74/100\n",
      "32/32 - 0s - loss: 0.3404 - 34ms/epoch - 1ms/step\n",
      "Epoch 75/100\n",
      "32/32 - 0s - loss: 0.3412 - 33ms/epoch - 1ms/step\n",
      "Epoch 76/100\n",
      "32/32 - 0s - loss: 0.3409 - 35ms/epoch - 1ms/step\n",
      "Epoch 77/100\n",
      "32/32 - 0s - loss: 0.3484 - 31ms/epoch - 969us/step\n",
      "Epoch 78/100\n",
      "32/32 - 0s - loss: 0.3573 - 33ms/epoch - 1ms/step\n",
      "Epoch 79/100\n",
      "32/32 - 0s - loss: 0.3411 - 35ms/epoch - 1ms/step\n",
      "Epoch 80/100\n",
      "32/32 - 0s - loss: 0.3468 - 33ms/epoch - 1ms/step\n",
      "Epoch 81/100\n",
      "32/32 - 0s - loss: 0.3405 - 34ms/epoch - 1ms/step\n",
      "Epoch 82/100\n",
      "32/32 - 0s - loss: 0.3445 - 33ms/epoch - 1ms/step\n",
      "Epoch 83/100\n",
      "32/32 - 0s - loss: 0.3473 - 32ms/epoch - 1ms/step\n",
      "Epoch 84/100\n",
      "32/32 - 0s - loss: 0.3407 - 35ms/epoch - 1ms/step\n",
      "Epoch 85/100\n",
      "32/32 - 0s - loss: 0.3372 - 32ms/epoch - 1ms/step\n",
      "Epoch 86/100\n",
      "32/32 - 0s - loss: 0.3459 - 34ms/epoch - 1ms/step\n",
      "Epoch 87/100\n",
      "32/32 - 0s - loss: 0.3538 - 33ms/epoch - 1ms/step\n",
      "Epoch 88/100\n",
      "32/32 - 0s - loss: 0.3466 - 32ms/epoch - 1ms/step\n",
      "Epoch 89/100\n",
      "32/32 - 0s - loss: 0.3469 - 32ms/epoch - 1ms/step\n",
      "Epoch 90/100\n",
      "32/32 - 0s - loss: 0.3438 - 34ms/epoch - 1ms/step\n",
      "Epoch 91/100\n",
      "32/32 - 0s - loss: 0.3511 - 33ms/epoch - 1ms/step\n",
      "Epoch 92/100\n",
      "32/32 - 0s - loss: 0.3433 - 32ms/epoch - 1ms/step\n",
      "Epoch 93/100\n",
      "32/32 - 0s - loss: 0.3401 - 32ms/epoch - 1000us/step\n",
      "Epoch 94/100\n",
      "32/32 - 0s - loss: 0.3442 - 31ms/epoch - 969us/step\n",
      "Epoch 95/100\n",
      "32/32 - 0s - loss: 0.3533 - 37ms/epoch - 1ms/step\n",
      "Epoch 96/100\n",
      "32/32 - 0s - loss: 0.3532 - 29ms/epoch - 906us/step\n",
      "Epoch 97/100\n",
      "32/32 - 0s - loss: 0.3425 - 33ms/epoch - 1ms/step\n",
      "Epoch 98/100\n",
      "32/32 - 0s - loss: 0.3473 - 35ms/epoch - 1ms/step\n",
      "Epoch 99/100\n",
      "32/32 - 0s - loss: 0.3438 - 33ms/epoch - 1ms/step\n",
      "Epoch 100/100\n",
      "32/32 - 0s - loss: 0.3398 - 31ms/epoch - 969us/step\n"
     ]
    },
    {
     "data": {
      "text/plain": [
       "<keras.src.callbacks.History at 0x28331eeabe0>"
      ]
     },
     "execution_count": 10,
     "metadata": {},
     "output_type": "execute_result"
    }
   ],
   "source": [
    "input_size = 2\n",
    "output_size = 1\n",
    "\n",
    "model = tf.keras.Sequential([\n",
    "                            tf.keras.layers.Dense(output_size)\n",
    "                            ])\n",
    "\n",
    "model.compile(optimizer='sgd', loss='mean_squared_error')\n",
    "\n",
    "model.fit(training_data['inputs'], training_data['targets'], epochs=100, verbose=2)"
   ]
  },
  {
   "cell_type": "markdown",
   "id": "2d3597ba",
   "metadata": {},
   "source": [
    "## Extract the weights and bias "
   ]
  },
  {
   "cell_type": "code",
   "execution_count": 11,
   "id": "9e1ec885",
   "metadata": {},
   "outputs": [
    {
     "data": {
      "text/plain": [
       "[array([[ 1.9737188],\n",
       "        [-3.017972 ]], dtype=float32),\n",
       " array([5.004636], dtype=float32)]"
      ]
     },
     "execution_count": 11,
     "metadata": {},
     "output_type": "execute_result"
    }
   ],
   "source": [
    "model.layers[0].get_weights()"
   ]
  },
  {
   "cell_type": "markdown",
   "id": "31892c8d",
   "metadata": {},
   "source": [
    "## plotting the data "
   ]
  },
  {
   "cell_type": "code",
   "execution_count": 12,
   "id": "a4b327ae",
   "metadata": {},
   "outputs": [
    {
     "data": {
      "image/png": "[encoded data removed]",
      "text/plain": [
       "<Figure size 640x480 with 1 Axes>"
      ]
     },
     "metadata": {},
     "output_type": "display_data"
    }
   ],
   "source": [
    "plt.plot(np.squeeze(model.predict_on_batch(training_data['inputs'])), np.squeeze(training_data['targets']))\n",
    "plt.xlabel('outputs')\n",
    "plt.ylabel('targets')\n",
    "plt.show()"
   ]
  },
  {
   "cell_type": "code",
   "execution_count": null,
   "id": "6a6db302",
   "metadata": {},
   "outputs": [],
   "source": []
  }
 ],
 "metadata": {
  "kernelspec": {
   "display_name": "Python 3 (ipykernel)",
   "language": "python",
   "name": "python3"
  },
  "language_info": {
   "codemirror_mode": {
    "name": "ipython",
    "version": 3
   },
   "file_extension": ".py",
   "mimetype": "text/x-python",
   "name": "python",
   "nbconvert_exporter": "python",
   "pygments_lexer": "ipython3",
   "version": "3.9.13"
  }
 },
 "nbformat": 4,
 "nbformat_minor": 5
}
