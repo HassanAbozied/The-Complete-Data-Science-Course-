{
 "cells": [
  {
   "cell_type": "code",
   "execution_count": 1,
   "id": "137982d3",
   "metadata": {},
   "outputs": [
    {
     "name": "stderr",
     "output_type": "stream",
     "text": [
      "E:\\Anaconada\\lib\\site-packages\\scipy\\__init__.py:155: UserWarning: A NumPy version >=1.18.5 and <1.25.0 is required for this version of SciPy (detected version 1.26.3\n",
      "  warnings.warn(f\"A NumPy version >={np_minversion} and <{np_maxversion}\"\n"
     ]
    }
   ],
   "source": [
    "import numpy as np \n",
    "from sklearn.model_selection import train_test_split"
   ]
  },
  {
   "cell_type": "code",
   "execution_count": 5,
   "id": "4a1bac16",
   "metadata": {},
   "outputs": [
    {
     "data": {
      "text/plain": [
       "array([  1,   2,   3,   4,   5,   6,   7,   8,   9,  10,  11,  12,  13,\n",
       "        14,  15,  16,  17,  18,  19,  20,  21,  22,  23,  24,  25,  26,\n",
       "        27,  28,  29,  30,  31,  32,  33,  34,  35,  36,  37,  38,  39,\n",
       "        40,  41,  42,  43,  44,  45,  46,  47,  48,  49,  50,  51,  52,\n",
       "        53,  54,  55,  56,  57,  58,  59,  60,  61,  62,  63,  64,  65,\n",
       "        66,  67,  68,  69,  70,  71,  72,  73,  74,  75,  76,  77,  78,\n",
       "        79,  80,  81,  82,  83,  84,  85,  86,  87,  88,  89,  90,  91,\n",
       "        92,  93,  94,  95,  96,  97,  98,  99, 100, 101, 102, 103, 104,\n",
       "       105, 106, 107, 108, 109])"
      ]
     },
     "execution_count": 5,
     "metadata": {},
     "output_type": "execute_result"
    }
   ],
   "source": [
    "a = np.arange(1,110)\n",
    "a"
   ]
  },
  {
   "cell_type": "code",
   "execution_count": 6,
   "id": "d615a921",
   "metadata": {},
   "outputs": [
    {
     "data": {
      "text/plain": [
       "array([501, 502, 503, 504, 505, 506, 507, 508, 509, 510, 511, 512, 513,\n",
       "       514, 515, 516, 517, 518, 519, 520, 521, 522, 523, 524, 525, 526,\n",
       "       527, 528, 529, 530, 531, 532, 533, 534, 535, 536, 537, 538, 539,\n",
       "       540, 541, 542, 543, 544, 545, 546, 547, 548, 549, 550, 551, 552,\n",
       "       553, 554, 555, 556, 557, 558, 559, 560, 561, 562, 563, 564, 565,\n",
       "       566, 567, 568, 569, 570, 571, 572, 573, 574, 575, 576, 577, 578,\n",
       "       579, 580, 581, 582, 583, 584, 585, 586, 587, 588, 589, 590, 591,\n",
       "       592, 593, 594, 595, 596, 597, 598, 599, 600])"
      ]
     },
     "execution_count": 6,
     "metadata": {},
     "output_type": "execute_result"
    }
   ],
   "source": [
    "b = np.arange(501,601)\n",
    "b"
   ]
  },
  {
   "cell_type": "markdown",
   "id": "b8510272",
   "metadata": {},
   "source": [
    "## split the data "
   ]
  },
  {
   "cell_type": "code",
   "execution_count": 7,
   "id": "694c536b",
   "metadata": {},
   "outputs": [
    {
     "data": {
      "text/plain": [
       "[array([ 80, 100, 108,  44,  56,  94,  41,  36, 103,  11, 106,  51,  17,\n",
       "          5,  61,   2,   9,  32,  88,  21,  20,  68,  86, 109,   8,   1,\n",
       "         63,  73,  12,  90,  49,  16,  74,  69,  70,  93,  30, 102,  87,\n",
       "         13,  92,  72,  37,  47,   4,  18,  14, 104,  96,  71,  50,  66,\n",
       "         79,  10,  91,  43,  99, 107, 101,  53,  25,  81,  35,  55,  84,\n",
       "         46,  85,  15,  95,  98,  75,   3,  82,  26,  57,  39,  60,  42,\n",
       "        105,  48,  77]),\n",
       " array([31, 38, 67, 65, 19,  7, 29, 62, 89, 83, 33, 45, 28, 76, 24, 78, 54,\n",
       "        34, 58, 27, 23, 64, 52, 40, 22, 97,  6, 59])]"
      ]
     },
     "execution_count": 7,
     "metadata": {},
     "output_type": "execute_result"
    }
   ],
   "source": [
    "train_test_split(a)"
   ]
  },
  {
   "cell_type": "code",
   "execution_count": 12,
   "id": "f5a20536",
   "metadata": {},
   "outputs": [],
   "source": [
    "a_train, a_test = train_test_split(a, test_size= 0.2)"
   ]
  },
  {
   "cell_type": "code",
   "execution_count": 13,
   "id": "8a2f4490",
   "metadata": {},
   "outputs": [
    {
     "data": {
      "text/plain": [
       "((87,), (22,))"
      ]
     },
     "execution_count": 13,
     "metadata": {},
     "output_type": "execute_result"
    }
   ],
   "source": [
    "a_train.shape,a_test.shape"
   ]
  },
  {
   "cell_type": "code",
   "execution_count": 14,
   "id": "828cd6a3",
   "metadata": {},
   "outputs": [
    {
     "data": {
      "text/plain": [
       "array([ 22,  10,  52,  50, 100,  78,  69, 104,  21,  20,  66,  57,  74,\n",
       "        80,  19,  12,  45,  92,  62,  81,  43,  76,  13,  93,  77,  46,\n",
       "        23,  58,  51,   4,  39,  59,  25,  15,  79,  70,   3,  86, 105,\n",
       "        33,  36,  83,  37,  44,  24,  68,  72,  88,  49,  28,   9,  17,\n",
       "        35,  96,  82, 109,  84,  31,  71,  94,  41,  29,   6, 108,  38,\n",
       "        75,  34,   5,  89,  40, 102,  60,  18,  11,   7,  48,   2, 107,\n",
       "         8,  64,   1,  65, 103,  98,  97,  47,  85])"
      ]
     },
     "execution_count": 14,
     "metadata": {},
     "output_type": "execute_result"
    }
   ],
   "source": [
    "a_train "
   ]
  },
  {
   "cell_type": "code",
   "execution_count": 15,
   "id": "2d27e8f0",
   "metadata": {},
   "outputs": [
    {
     "data": {
      "text/plain": [
       "array([ 91,  14,  99,  73,  54,  90,  61,  26,  87, 106,  16,  32,  63,\n",
       "        55, 101,  67,  42,  56,  30,  27,  95,  53])"
      ]
     },
     "execution_count": 15,
     "metadata": {},
     "output_type": "execute_result"
    }
   ],
   "source": [
    "a_test "
   ]
  },
  {
   "cell_type": "code",
   "execution_count": null,
   "id": "039a22e6",
   "metadata": {},
   "outputs": [],
   "source": []
  }
 ],
 "metadata": {
  "kernelspec": {
   "display_name": "Python 3 (ipykernel)",
   "language": "python",
   "name": "python3"
  },
  "language_info": {
   "codemirror_mode": {
    "name": "ipython",
    "version": 3
   },
   "file_extension": ".py",
   "mimetype": "text/x-python",
   "name": "python",
   "nbconvert_exporter": "python",
   "pygments_lexer": "ipython3",
   "version": "3.9.13"
  }
 },
 "nbformat": 4,
 "nbformat_minor": 5
}
