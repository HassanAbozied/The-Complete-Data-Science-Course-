{
 "cells": [
  {
   "cell_type": "code",
   "execution_count": 1,
   "id": "6195c4d3",
   "metadata": {},
   "outputs": [
    {
     "name": "stderr",
     "output_type": "stream",
     "text": [
      "E:\\Anaconada\\lib\\site-packages\\scipy\\__init__.py:155: UserWarning: A NumPy version >=1.18.5 and <1.25.0 is required for this version of SciPy (detected version 1.26.3\n",
      "  warnings.warn(f\"A NumPy version >={np_minversion} and <{np_maxversion}\"\n"
     ]
    }
   ],
   "source": [
    "import pandas as pd \n",
    "import numpy as np \n",
    "import matplotlib.pyplot as plt \n",
    "import statsmodels.api as sm\n",
    "import seaborn as sns \n",
    "sns.set()"
   ]
  },
  {
   "cell_type": "code",
   "execution_count": 2,
   "id": "83a8736b",
   "metadata": {},
   "outputs": [],
   "source": [
    "raw_data = pd.read_csv(r\"E:\\Data Science Material udemy\\data of coding\\2.01.+Admittance.csv\")"
   ]
  },
  {
   "cell_type": "code",
   "execution_count": 3,
   "id": "31545cf3",
   "metadata": {},
   "outputs": [
    {
     "data": {
      "text/html": [
       "<div>\n",
       "<style scoped>\n",
       "    .dataframe tbody tr th:only-of-type {\n",
       "        vertical-align: middle;\n",
       "    }\n",
       "\n",
       "    .dataframe tbody tr th {\n",
       "        vertical-align: top;\n",
       "    }\n",
       "\n",
       "    .dataframe thead th {\n",
       "        text-align: right;\n",
       "    }\n",
       "</style>\n",
       "<table border=\"1\" class=\"dataframe\">\n",
       "  <thead>\n",
       "    <tr style=\"text-align: right;\">\n",
       "      <th></th>\n",
       "      <th>SAT</th>\n",
       "      <th>Admitted</th>\n",
       "    </tr>\n",
       "  </thead>\n",
       "  <tbody>\n",
       "    <tr>\n",
       "      <th>0</th>\n",
       "      <td>1363</td>\n",
       "      <td>No</td>\n",
       "    </tr>\n",
       "    <tr>\n",
       "      <th>1</th>\n",
       "      <td>1792</td>\n",
       "      <td>Yes</td>\n",
       "    </tr>\n",
       "    <tr>\n",
       "      <th>2</th>\n",
       "      <td>1954</td>\n",
       "      <td>Yes</td>\n",
       "    </tr>\n",
       "    <tr>\n",
       "      <th>3</th>\n",
       "      <td>1653</td>\n",
       "      <td>No</td>\n",
       "    </tr>\n",
       "    <tr>\n",
       "      <th>4</th>\n",
       "      <td>1593</td>\n",
       "      <td>No</td>\n",
       "    </tr>\n",
       "  </tbody>\n",
       "</table>\n",
       "</div>"
      ],
      "text/plain": [
       "    SAT Admitted\n",
       "0  1363       No\n",
       "1  1792      Yes\n",
       "2  1954      Yes\n",
       "3  1653       No\n",
       "4  1593       No"
      ]
     },
     "execution_count": 3,
     "metadata": {},
     "output_type": "execute_result"
    }
   ],
   "source": [
    "raw_data.head()"
   ]
  },
  {
   "cell_type": "code",
   "execution_count": 4,
   "id": "8e3fdd30",
   "metadata": {},
   "outputs": [
    {
     "data": {
      "text/html": [
       "<div>\n",
       "<style scoped>\n",
       "    .dataframe tbody tr th:only-of-type {\n",
       "        vertical-align: middle;\n",
       "    }\n",
       "\n",
       "    .dataframe tbody tr th {\n",
       "        vertical-align: top;\n",
       "    }\n",
       "\n",
       "    .dataframe thead th {\n",
       "        text-align: right;\n",
       "    }\n",
       "</style>\n",
       "<table border=\"1\" class=\"dataframe\">\n",
       "  <thead>\n",
       "    <tr style=\"text-align: right;\">\n",
       "      <th></th>\n",
       "      <th>SAT</th>\n",
       "      <th>Admitted</th>\n",
       "    </tr>\n",
       "  </thead>\n",
       "  <tbody>\n",
       "    <tr>\n",
       "      <th>0</th>\n",
       "      <td>1363</td>\n",
       "      <td>0</td>\n",
       "    </tr>\n",
       "    <tr>\n",
       "      <th>1</th>\n",
       "      <td>1792</td>\n",
       "      <td>1</td>\n",
       "    </tr>\n",
       "    <tr>\n",
       "      <th>2</th>\n",
       "      <td>1954</td>\n",
       "      <td>1</td>\n",
       "    </tr>\n",
       "    <tr>\n",
       "      <th>3</th>\n",
       "      <td>1653</td>\n",
       "      <td>0</td>\n",
       "    </tr>\n",
       "    <tr>\n",
       "      <th>4</th>\n",
       "      <td>1593</td>\n",
       "      <td>0</td>\n",
       "    </tr>\n",
       "    <tr>\n",
       "      <th>...</th>\n",
       "      <td>...</td>\n",
       "      <td>...</td>\n",
       "    </tr>\n",
       "    <tr>\n",
       "      <th>163</th>\n",
       "      <td>1722</td>\n",
       "      <td>1</td>\n",
       "    </tr>\n",
       "    <tr>\n",
       "      <th>164</th>\n",
       "      <td>1750</td>\n",
       "      <td>1</td>\n",
       "    </tr>\n",
       "    <tr>\n",
       "      <th>165</th>\n",
       "      <td>1555</td>\n",
       "      <td>0</td>\n",
       "    </tr>\n",
       "    <tr>\n",
       "      <th>166</th>\n",
       "      <td>1524</td>\n",
       "      <td>0</td>\n",
       "    </tr>\n",
       "    <tr>\n",
       "      <th>167</th>\n",
       "      <td>1461</td>\n",
       "      <td>0</td>\n",
       "    </tr>\n",
       "  </tbody>\n",
       "</table>\n",
       "<p>168 rows × 2 columns</p>\n",
       "</div>"
      ],
      "text/plain": [
       "      SAT  Admitted\n",
       "0    1363         0\n",
       "1    1792         1\n",
       "2    1954         1\n",
       "3    1653         0\n",
       "4    1593         0\n",
       "..    ...       ...\n",
       "163  1722         1\n",
       "164  1750         1\n",
       "165  1555         0\n",
       "166  1524         0\n",
       "167  1461         0\n",
       "\n",
       "[168 rows x 2 columns]"
      ]
     },
     "execution_count": 4,
     "metadata": {},
     "output_type": "execute_result"
    }
   ],
   "source": [
    "data = raw_data.copy()\n",
    "data['Admitted'] = data['Admitted'].map({'Yes':1, 'No':0})\n",
    "data"
   ]
  },
  {
   "cell_type": "code",
   "execution_count": 5,
   "id": "d5d99141",
   "metadata": {},
   "outputs": [],
   "source": [
    "y = data['Admitted']\n",
    "x1 = data['SAT']"
   ]
  },
  {
   "cell_type": "code",
   "execution_count": 7,
   "id": "dde37cd2",
   "metadata": {},
   "outputs": [
    {
     "data": {
      "image/png": "[encoded data removed]",
      "text/plain": [
       "<Figure size 640x480 with 1 Axes>"
      ]
     },
     "metadata": {},
     "output_type": "display_data"
    }
   ],
   "source": [
    "plt.scatter(x1,y,color='C0')\n",
    "plt.xlabel('SAT',fontsize=20)\n",
    "plt.ylabel('Admitted',fontsize=20)\n",
    "plt.show()"
   ]
  },
  {
   "cell_type": "markdown",
   "id": "a7409a97",
   "metadata": {},
   "source": [
    "### Plot with a regression line "
   ]
  },
  {
   "cell_type": "code",
   "execution_count": 8,
   "id": "f0739b1c",
   "metadata": {},
   "outputs": [
    {
     "data": {
      "image/png": "[encoded data removed]",
      "text/plain": [
       "<Figure size 640x480 with 1 Axes>"
      ]
     },
     "metadata": {},
     "output_type": "display_data"
    }
   ],
   "source": [
    "x = sm.add_constant(x1)\n",
    "reg_lin = sm.OLS(y,x)\n",
    "results_lin = reg_lin.fit()\n",
    "\n",
    "plt.scatter(x1,y,color = 'C0')\n",
    "y_hat = x1*results_lin.params[1]+results_lin.params[0]\n",
    "\n",
    "plt.plot(x1,y_hat,lw=2.5,color='C8')\n",
    "plt.xlabel('SAT', fontsize= 20)\n",
    "plt.ylabel('Admitted', fontsize =20)\n",
    "plt.show()"
   ]
  },
  {
   "cell_type": "markdown",
   "id": "9d54b4d2",
   "metadata": {},
   "source": [
    "### Plot with a logistic regression curve "
   ]
  },
  {
   "cell_type": "markdown",
   "id": "3099a41f",
   "metadata": {},
   "source": [
    "## Regression"
   ]
  },
  {
   "cell_type": "code",
   "execution_count": 9,
   "id": "9e50ee86",
   "metadata": {},
   "outputs": [
    {
     "name": "stdout",
     "output_type": "stream",
     "text": [
      "Optimization terminated successfully.\n",
      "         Current function value: 0.137766\n",
      "         Iterations 10\n"
     ]
    }
   ],
   "source": [
    "x = sm.add_constant(x1)\n",
    "reg_log = sm.Logit(y,x)\n",
    "result_log = reg_log.fit()"
   ]
  },
  {
   "cell_type": "code",
   "execution_count": 11,
   "id": "9f7009d5",
   "metadata": {},
   "outputs": [
    {
     "data": {
      "text/html": [
       "<table class=\"simpletable\">\n",
       "<caption>Logit Regression Results</caption>\n",
       "<tr>\n",
       "  <th>Dep. Variable:</th>       <td>Admitted</td>     <th>  No. Observations:  </th>  <td>   168</td>  \n",
       "</tr>\n",
       "<tr>\n",
       "  <th>Model:</th>                 <td>Logit</td>      <th>  Df Residuals:      </th>  <td>   166</td>  \n",
       "</tr>\n",
       "<tr>\n",
       "  <th>Method:</th>                 <td>MLE</td>       <th>  Df Model:          </th>  <td>     1</td>  \n",
       "</tr>\n",
       "<tr>\n",
       "  <th>Date:</th>            <td>Thu, 20 Jun 2024</td> <th>  Pseudo R-squ.:     </th>  <td>0.7992</td>  \n",
       "</tr>\n",
       "<tr>\n",
       "  <th>Time:</th>                <td>02:12:58</td>     <th>  Log-Likelihood:    </th> <td> -23.145</td> \n",
       "</tr>\n",
       "<tr>\n",
       "  <th>converged:</th>             <td>True</td>       <th>  LL-Null:           </th> <td> -115.26</td> \n",
       "</tr>\n",
       "<tr>\n",
       "  <th>Covariance Type:</th>     <td>nonrobust</td>    <th>  LLR p-value:       </th> <td>5.805e-42</td>\n",
       "</tr>\n",
       "</table>\n",
       "<table class=\"simpletable\">\n",
       "<tr>\n",
       "    <td></td>       <th>coef</th>     <th>std err</th>      <th>z</th>      <th>P>|z|</th>  <th>[0.025</th>    <th>0.975]</th>  \n",
       "</tr>\n",
       "<tr>\n",
       "  <th>const</th> <td>  -69.9128</td> <td>   15.737</td> <td>   -4.443</td> <td> 0.000</td> <td> -100.756</td> <td>  -39.070</td>\n",
       "</tr>\n",
       "<tr>\n",
       "  <th>SAT</th>   <td>    0.0420</td> <td>    0.009</td> <td>    4.454</td> <td> 0.000</td> <td>    0.024</td> <td>    0.060</td>\n",
       "</tr>\n",
       "</table><br/><br/>Possibly complete quasi-separation: A fraction 0.27 of observations can be<br/>perfectly predicted. This might indicate that there is complete<br/>quasi-separation. In this case some parameters will not be identified."
      ],
      "text/plain": [
       "<class 'statsmodels.iolib.summary.Summary'>\n",
       "\"\"\"\n",
       "                           Logit Regression Results                           \n",
       "==============================================================================\n",
       "Dep. Variable:               Admitted   No. Observations:                  168\n",
       "Model:                          Logit   Df Residuals:                      166\n",
       "Method:                           MLE   Df Model:                            1\n",
       "Date:                Thu, 20 Jun 2024   Pseudo R-squ.:                  0.7992\n",
       "Time:                        02:12:58   Log-Likelihood:                -23.145\n",
       "converged:                       True   LL-Null:                       -115.26\n",
       "Covariance Type:            nonrobust   LLR p-value:                 5.805e-42\n",
       "==============================================================================\n",
       "                 coef    std err          z      P>|z|      [0.025      0.975]\n",
       "------------------------------------------------------------------------------\n",
       "const        -69.9128     15.737     -4.443      0.000    -100.756     -39.070\n",
       "SAT            0.0420      0.009      4.454      0.000       0.024       0.060\n",
       "==============================================================================\n",
       "\n",
       "Possibly complete quasi-separation: A fraction 0.27 of observations can be\n",
       "perfectly predicted. This might indicate that there is complete\n",
       "quasi-separation. In this case some parameters will not be identified.\n",
       "\"\"\""
      ]
     },
     "execution_count": 11,
     "metadata": {},
     "output_type": "execute_result"
    }
   ],
   "source": [
    "result_log.summary()"
   ]
  },
  {
   "cell_type": "markdown",
   "id": "3aa4b42d",
   "metadata": {},
   "source": [
    "## Load the data "
   ]
  },
  {
   "cell_type": "code",
   "execution_count": 12,
   "id": "4b5dbbda",
   "metadata": {},
   "outputs": [
    {
     "data": {
      "text/html": [
       "<div>\n",
       "<style scoped>\n",
       "    .dataframe tbody tr th:only-of-type {\n",
       "        vertical-align: middle;\n",
       "    }\n",
       "\n",
       "    .dataframe tbody tr th {\n",
       "        vertical-align: top;\n",
       "    }\n",
       "\n",
       "    .dataframe thead th {\n",
       "        text-align: right;\n",
       "    }\n",
       "</style>\n",
       "<table border=\"1\" class=\"dataframe\">\n",
       "  <thead>\n",
       "    <tr style=\"text-align: right;\">\n",
       "      <th></th>\n",
       "      <th>SAT</th>\n",
       "      <th>Admitted</th>\n",
       "      <th>Gender</th>\n",
       "    </tr>\n",
       "  </thead>\n",
       "  <tbody>\n",
       "    <tr>\n",
       "      <th>0</th>\n",
       "      <td>1363</td>\n",
       "      <td>No</td>\n",
       "      <td>Male</td>\n",
       "    </tr>\n",
       "    <tr>\n",
       "      <th>1</th>\n",
       "      <td>1792</td>\n",
       "      <td>Yes</td>\n",
       "      <td>Female</td>\n",
       "    </tr>\n",
       "    <tr>\n",
       "      <th>2</th>\n",
       "      <td>1954</td>\n",
       "      <td>Yes</td>\n",
       "      <td>Female</td>\n",
       "    </tr>\n",
       "    <tr>\n",
       "      <th>3</th>\n",
       "      <td>1653</td>\n",
       "      <td>No</td>\n",
       "      <td>Male</td>\n",
       "    </tr>\n",
       "    <tr>\n",
       "      <th>4</th>\n",
       "      <td>1593</td>\n",
       "      <td>No</td>\n",
       "      <td>Male</td>\n",
       "    </tr>\n",
       "    <tr>\n",
       "      <th>...</th>\n",
       "      <td>...</td>\n",
       "      <td>...</td>\n",
       "      <td>...</td>\n",
       "    </tr>\n",
       "    <tr>\n",
       "      <th>163</th>\n",
       "      <td>1722</td>\n",
       "      <td>Yes</td>\n",
       "      <td>Female</td>\n",
       "    </tr>\n",
       "    <tr>\n",
       "      <th>164</th>\n",
       "      <td>1750</td>\n",
       "      <td>Yes</td>\n",
       "      <td>Male</td>\n",
       "    </tr>\n",
       "    <tr>\n",
       "      <th>165</th>\n",
       "      <td>1555</td>\n",
       "      <td>No</td>\n",
       "      <td>Male</td>\n",
       "    </tr>\n",
       "    <tr>\n",
       "      <th>166</th>\n",
       "      <td>1524</td>\n",
       "      <td>No</td>\n",
       "      <td>Male</td>\n",
       "    </tr>\n",
       "    <tr>\n",
       "      <th>167</th>\n",
       "      <td>1461</td>\n",
       "      <td>No</td>\n",
       "      <td>Male</td>\n",
       "    </tr>\n",
       "  </tbody>\n",
       "</table>\n",
       "<p>168 rows × 3 columns</p>\n",
       "</div>"
      ],
      "text/plain": [
       "      SAT Admitted  Gender\n",
       "0    1363       No    Male\n",
       "1    1792      Yes  Female\n",
       "2    1954      Yes  Female\n",
       "3    1653       No    Male\n",
       "4    1593       No    Male\n",
       "..    ...      ...     ...\n",
       "163  1722      Yes  Female\n",
       "164  1750      Yes    Male\n",
       "165  1555       No    Male\n",
       "166  1524       No    Male\n",
       "167  1461       No    Male\n",
       "\n",
       "[168 rows x 3 columns]"
      ]
     },
     "execution_count": 12,
     "metadata": {},
     "output_type": "execute_result"
    }
   ],
   "source": [
    "raw_data = pd.read_csv(r\"E:\\Data Science Material udemy\\data of coding\\2.02.+Binary+predictors.csv\")\n",
    "raw_data "
   ]
  },
  {
   "cell_type": "code",
   "execution_count": 14,
   "id": "5a0af12f",
   "metadata": {},
   "outputs": [
    {
     "data": {
      "text/html": [
       "<div>\n",
       "<style scoped>\n",
       "    .dataframe tbody tr th:only-of-type {\n",
       "        vertical-align: middle;\n",
       "    }\n",
       "\n",
       "    .dataframe tbody tr th {\n",
       "        vertical-align: top;\n",
       "    }\n",
       "\n",
       "    .dataframe thead th {\n",
       "        text-align: right;\n",
       "    }\n",
       "</style>\n",
       "<table border=\"1\" class=\"dataframe\">\n",
       "  <thead>\n",
       "    <tr style=\"text-align: right;\">\n",
       "      <th></th>\n",
       "      <th>SAT</th>\n",
       "      <th>Admitted</th>\n",
       "      <th>Gender</th>\n",
       "    </tr>\n",
       "  </thead>\n",
       "  <tbody>\n",
       "    <tr>\n",
       "      <th>0</th>\n",
       "      <td>1363</td>\n",
       "      <td>0</td>\n",
       "      <td>0</td>\n",
       "    </tr>\n",
       "    <tr>\n",
       "      <th>1</th>\n",
       "      <td>1792</td>\n",
       "      <td>1</td>\n",
       "      <td>1</td>\n",
       "    </tr>\n",
       "    <tr>\n",
       "      <th>2</th>\n",
       "      <td>1954</td>\n",
       "      <td>1</td>\n",
       "      <td>1</td>\n",
       "    </tr>\n",
       "    <tr>\n",
       "      <th>3</th>\n",
       "      <td>1653</td>\n",
       "      <td>0</td>\n",
       "      <td>0</td>\n",
       "    </tr>\n",
       "    <tr>\n",
       "      <th>4</th>\n",
       "      <td>1593</td>\n",
       "      <td>0</td>\n",
       "      <td>0</td>\n",
       "    </tr>\n",
       "    <tr>\n",
       "      <th>...</th>\n",
       "      <td>...</td>\n",
       "      <td>...</td>\n",
       "      <td>...</td>\n",
       "    </tr>\n",
       "    <tr>\n",
       "      <th>163</th>\n",
       "      <td>1722</td>\n",
       "      <td>1</td>\n",
       "      <td>1</td>\n",
       "    </tr>\n",
       "    <tr>\n",
       "      <th>164</th>\n",
       "      <td>1750</td>\n",
       "      <td>1</td>\n",
       "      <td>0</td>\n",
       "    </tr>\n",
       "    <tr>\n",
       "      <th>165</th>\n",
       "      <td>1555</td>\n",
       "      <td>0</td>\n",
       "      <td>0</td>\n",
       "    </tr>\n",
       "    <tr>\n",
       "      <th>166</th>\n",
       "      <td>1524</td>\n",
       "      <td>0</td>\n",
       "      <td>0</td>\n",
       "    </tr>\n",
       "    <tr>\n",
       "      <th>167</th>\n",
       "      <td>1461</td>\n",
       "      <td>0</td>\n",
       "      <td>0</td>\n",
       "    </tr>\n",
       "  </tbody>\n",
       "</table>\n",
       "<p>168 rows × 3 columns</p>\n",
       "</div>"
      ],
      "text/plain": [
       "      SAT  Admitted  Gender\n",
       "0    1363         0       0\n",
       "1    1792         1       1\n",
       "2    1954         1       1\n",
       "3    1653         0       0\n",
       "4    1593         0       0\n",
       "..    ...       ...     ...\n",
       "163  1722         1       1\n",
       "164  1750         1       0\n",
       "165  1555         0       0\n",
       "166  1524         0       0\n",
       "167  1461         0       0\n",
       "\n",
       "[168 rows x 3 columns]"
      ]
     },
     "execution_count": 14,
     "metadata": {},
     "output_type": "execute_result"
    }
   ],
   "source": [
    "data = raw_data.copy()\n",
    "data['Admitted'] = data['Admitted'].map({'Yes':1, 'No': 0})\n",
    "data['Gender'] = data['Gender'].map({'Female':1, 'Male':0})\n",
    "data"
   ]
  },
  {
   "cell_type": "code",
   "execution_count": 15,
   "id": "6308f2a2",
   "metadata": {},
   "outputs": [],
   "source": [
    "y = data['Admitted']\n",
    "x1 = data['Gender']"
   ]
  },
  {
   "cell_type": "markdown",
   "id": "a7c77dda",
   "metadata": {},
   "source": [
    "### Regression "
   ]
  },
  {
   "cell_type": "code",
   "execution_count": 17,
   "id": "45cba660",
   "metadata": {},
   "outputs": [
    {
     "name": "stdout",
     "output_type": "stream",
     "text": [
      "Optimization terminated successfully.\n",
      "         Current function value: 0.572260\n",
      "         Iterations 5\n"
     ]
    },
    {
     "data": {
      "text/html": [
       "<table class=\"simpletable\">\n",
       "<caption>Logit Regression Results</caption>\n",
       "<tr>\n",
       "  <th>Dep. Variable:</th>       <td>Admitted</td>     <th>  No. Observations:  </th>  <td>   168</td>  \n",
       "</tr>\n",
       "<tr>\n",
       "  <th>Model:</th>                 <td>Logit</td>      <th>  Df Residuals:      </th>  <td>   166</td>  \n",
       "</tr>\n",
       "<tr>\n",
       "  <th>Method:</th>                 <td>MLE</td>       <th>  Df Model:          </th>  <td>     1</td>  \n",
       "</tr>\n",
       "<tr>\n",
       "  <th>Date:</th>            <td>Thu, 20 Jun 2024</td> <th>  Pseudo R-squ.:     </th>  <td>0.1659</td>  \n",
       "</tr>\n",
       "<tr>\n",
       "  <th>Time:</th>                <td>02:59:44</td>     <th>  Log-Likelihood:    </th> <td> -96.140</td> \n",
       "</tr>\n",
       "<tr>\n",
       "  <th>converged:</th>             <td>True</td>       <th>  LL-Null:           </th> <td> -115.26</td> \n",
       "</tr>\n",
       "<tr>\n",
       "  <th>Covariance Type:</th>     <td>nonrobust</td>    <th>  LLR p-value:       </th> <td>6.283e-10</td>\n",
       "</tr>\n",
       "</table>\n",
       "<table class=\"simpletable\">\n",
       "<tr>\n",
       "     <td></td>       <th>coef</th>     <th>std err</th>      <th>z</th>      <th>P>|z|</th>  <th>[0.025</th>    <th>0.975]</th>  \n",
       "</tr>\n",
       "<tr>\n",
       "  <th>const</th>  <td>   -0.6436</td> <td>    0.222</td> <td>   -2.901</td> <td> 0.004</td> <td>   -1.078</td> <td>   -0.209</td>\n",
       "</tr>\n",
       "<tr>\n",
       "  <th>Gender</th> <td>    2.0786</td> <td>    0.363</td> <td>    5.727</td> <td> 0.000</td> <td>    1.367</td> <td>    2.790</td>\n",
       "</tr>\n",
       "</table>"
      ],
      "text/plain": [
       "<class 'statsmodels.iolib.summary.Summary'>\n",
       "\"\"\"\n",
       "                           Logit Regression Results                           \n",
       "==============================================================================\n",
       "Dep. Variable:               Admitted   No. Observations:                  168\n",
       "Model:                          Logit   Df Residuals:                      166\n",
       "Method:                           MLE   Df Model:                            1\n",
       "Date:                Thu, 20 Jun 2024   Pseudo R-squ.:                  0.1659\n",
       "Time:                        02:59:44   Log-Likelihood:                -96.140\n",
       "converged:                       True   LL-Null:                       -115.26\n",
       "Covariance Type:            nonrobust   LLR p-value:                 6.283e-10\n",
       "==============================================================================\n",
       "                 coef    std err          z      P>|z|      [0.025      0.975]\n",
       "------------------------------------------------------------------------------\n",
       "const         -0.6436      0.222     -2.901      0.004      -1.078      -0.209\n",
       "Gender         2.0786      0.363      5.727      0.000       1.367       2.790\n",
       "==============================================================================\n",
       "\"\"\""
      ]
     },
     "execution_count": 17,
     "metadata": {},
     "output_type": "execute_result"
    }
   ],
   "source": [
    "x = sm.add_constant(x1)\n",
    "reg_log = sm.Logit(y,x)\n",
    "result_log = reg_log.fit()\n",
    "result_log.summary()"
   ]
  },
  {
   "cell_type": "markdown",
   "id": "f5b86427",
   "metadata": {},
   "source": [
    "## Accuracy "
   ]
  },
  {
   "cell_type": "code",
   "execution_count": 19,
   "id": "f0e3f5ff",
   "metadata": {},
   "outputs": [
    {
     "data": {
      "text/plain": [
       "array([0.34, 0.81, 0.81, 0.34, 0.34, 0.81, 0.81, 0.81, 0.81, 0.34, 0.81,\n",
       "       0.81, 0.81, 0.34, 0.34, 0.81, 0.34, 0.34, 0.81, 0.81, 0.81, 0.34,\n",
       "       0.81, 0.81, 0.81, 0.34, 0.81, 0.34, 0.81, 0.81, 0.34, 0.81, 0.34,\n",
       "       0.34, 0.34, 0.34, 0.34, 0.81, 0.34, 0.81, 0.34, 0.81, 0.34, 0.34,\n",
       "       0.34, 0.34, 0.81, 0.34, 0.34, 0.34, 0.34, 0.34, 0.81, 0.81, 0.81,\n",
       "       0.34, 0.34, 0.81, 0.34, 0.81, 0.34, 0.34, 0.81, 0.34, 0.34, 0.34,\n",
       "       0.34, 0.34, 0.81, 0.34, 0.34, 0.34, 0.81, 0.34, 0.34, 0.34, 0.34,\n",
       "       0.34, 0.81, 0.81, 0.34, 0.81, 0.81, 0.81, 0.81, 0.81, 0.34, 0.34,\n",
       "       0.81, 0.81, 0.81, 0.81, 0.81, 0.81, 0.34, 0.34, 0.81, 0.81, 0.81,\n",
       "       0.81, 0.81, 0.34, 0.81, 0.34, 0.81, 0.81, 0.81, 0.81, 0.34, 0.34,\n",
       "       0.34, 0.34, 0.34, 0.81, 0.34, 0.34, 0.81, 0.34, 0.81, 0.81, 0.81,\n",
       "       0.34, 0.81, 0.34, 0.81, 0.34, 0.81, 0.34, 0.34, 0.34, 0.81, 0.34,\n",
       "       0.81, 0.34, 0.34, 0.34, 0.81, 0.34, 0.81, 0.34, 0.34, 0.81, 0.34,\n",
       "       0.81, 0.81, 0.81, 0.34, 0.34, 0.34, 0.34, 0.81, 0.34, 0.34, 0.34,\n",
       "       0.81, 0.34, 0.81, 0.34, 0.81, 0.81, 0.34, 0.81, 0.34, 0.81, 0.34,\n",
       "       0.34, 0.34, 0.34])"
      ]
     },
     "execution_count": 19,
     "metadata": {},
     "output_type": "execute_result"
    }
   ],
   "source": [
    "np.set_printoptions(formatter={'float': lambda x: \"{0:0.2f}\".format(x)})\n",
    "result_log.predict()"
   ]
  },
  {
   "cell_type": "code",
   "execution_count": 20,
   "id": "2f0e511f",
   "metadata": {},
   "outputs": [
    {
     "data": {
      "text/plain": [
       "array([0, 1, 1, 0, 0, 1, 1, 1, 1, 0, 1, 1, 1, 0, 0, 1, 0, 0, 1, 1, 1, 1,\n",
       "       0, 0, 1, 1, 1, 1, 1, 1, 0, 1, 0, 1, 1, 1, 0, 1, 0, 0, 0, 1, 1, 0,\n",
       "       1, 0, 1, 0, 0, 0, 0, 1, 0, 0, 1, 0, 0, 1, 0, 1, 0, 1, 1, 1, 1, 0,\n",
       "       0, 0, 1, 0, 1, 1, 0, 1, 1, 1, 0, 1, 1, 1, 0, 1, 1, 0, 1, 1, 0, 1,\n",
       "       1, 1, 0, 0, 1, 1, 0, 1, 1, 0, 1, 1, 1, 0, 1, 0, 0, 1, 1, 1, 0, 0,\n",
       "       0, 0, 0, 1, 0, 0, 1, 0, 1, 1, 1, 0, 0, 0, 1, 0, 1, 0, 1, 1, 1, 0,\n",
       "       1, 0, 0, 0, 1, 0, 0, 0, 1, 1, 1, 1, 1, 0, 0, 0, 0, 1, 1, 1, 1, 1,\n",
       "       1, 0, 1, 1, 0, 1, 0, 1, 1, 1, 1, 0, 0, 0], dtype=int64)"
      ]
     },
     "execution_count": 20,
     "metadata": {},
     "output_type": "execute_result"
    }
   ],
   "source": [
    "np.array(data['Admitted'])"
   ]
  },
  {
   "cell_type": "code",
   "execution_count": 21,
   "id": "18915e5a",
   "metadata": {},
   "outputs": [
    {
     "data": {
      "text/plain": [
       "array([[59.00, 15.00],\n",
       "       [31.00, 63.00]])"
      ]
     },
     "execution_count": 21,
     "metadata": {},
     "output_type": "execute_result"
    }
   ],
   "source": [
    "result_log.pred_table()"
   ]
  },
  {
   "cell_type": "code",
   "execution_count": 22,
   "id": "a6e0195f",
   "metadata": {},
   "outputs": [
    {
     "data": {
      "text/html": [
       "<div>\n",
       "<style scoped>\n",
       "    .dataframe tbody tr th:only-of-type {\n",
       "        vertical-align: middle;\n",
       "    }\n",
       "\n",
       "    .dataframe tbody tr th {\n",
       "        vertical-align: top;\n",
       "    }\n",
       "\n",
       "    .dataframe thead th {\n",
       "        text-align: right;\n",
       "    }\n",
       "</style>\n",
       "<table border=\"1\" class=\"dataframe\">\n",
       "  <thead>\n",
       "    <tr style=\"text-align: right;\">\n",
       "      <th></th>\n",
       "      <th>predicted 0</th>\n",
       "      <th>predicted 1</th>\n",
       "    </tr>\n",
       "  </thead>\n",
       "  <tbody>\n",
       "    <tr>\n",
       "      <th>Actual 0</th>\n",
       "      <td>59.0</td>\n",
       "      <td>15.0</td>\n",
       "    </tr>\n",
       "    <tr>\n",
       "      <th>Actual 1</th>\n",
       "      <td>31.0</td>\n",
       "      <td>63.0</td>\n",
       "    </tr>\n",
       "  </tbody>\n",
       "</table>\n",
       "</div>"
      ],
      "text/plain": [
       "          predicted 0  predicted 1\n",
       "Actual 0         59.0         15.0\n",
       "Actual 1         31.0         63.0"
      ]
     },
     "execution_count": 22,
     "metadata": {},
     "output_type": "execute_result"
    }
   ],
   "source": [
    "cm_df = pd.DataFrame(result_log.pred_table())\n",
    "cm_df.columns = ['predicted 0', 'predicted 1']\n",
    "cm_df = cm_df.rename(index={0:'Actual 0', 1:'Actual 1'})\n",
    "cm_df"
   ]
  },
  {
   "cell_type": "markdown",
   "id": "bdb89ae4",
   "metadata": {},
   "source": [
    "### To calculate the accuracy that should i do "
   ]
  },
  {
   "cell_type": "code",
   "execution_count": 23,
   "id": "189aa002",
   "metadata": {},
   "outputs": [
    {
     "data": {
      "text/plain": [
       "0.7261904761904762"
      ]
     },
     "execution_count": 23,
     "metadata": {},
     "output_type": "execute_result"
    }
   ],
   "source": [
    "cm = np.array(cm_df)\n",
    "accuracy_train = (cm[0,0]+cm[1,1])/cm.sum()\n",
    "accuracy_train "
   ]
  },
  {
   "cell_type": "markdown",
   "id": "72110c52",
   "metadata": {},
   "source": [
    "## Testing the model and assessing its accuracy "
   ]
  },
  {
   "cell_type": "code",
   "execution_count": 24,
   "id": "9231d1f5",
   "metadata": {},
   "outputs": [
    {
     "data": {
      "text/html": [
       "<div>\n",
       "<style scoped>\n",
       "    .dataframe tbody tr th:only-of-type {\n",
       "        vertical-align: middle;\n",
       "    }\n",
       "\n",
       "    .dataframe tbody tr th {\n",
       "        vertical-align: top;\n",
       "    }\n",
       "\n",
       "    .dataframe thead th {\n",
       "        text-align: right;\n",
       "    }\n",
       "</style>\n",
       "<table border=\"1\" class=\"dataframe\">\n",
       "  <thead>\n",
       "    <tr style=\"text-align: right;\">\n",
       "      <th></th>\n",
       "      <th>SAT</th>\n",
       "      <th>Admitted</th>\n",
       "      <th>Gender</th>\n",
       "    </tr>\n",
       "  </thead>\n",
       "  <tbody>\n",
       "    <tr>\n",
       "      <th>0</th>\n",
       "      <td>1323</td>\n",
       "      <td>No</td>\n",
       "      <td>Male</td>\n",
       "    </tr>\n",
       "    <tr>\n",
       "      <th>1</th>\n",
       "      <td>1725</td>\n",
       "      <td>Yes</td>\n",
       "      <td>Female</td>\n",
       "    </tr>\n",
       "    <tr>\n",
       "      <th>2</th>\n",
       "      <td>1762</td>\n",
       "      <td>Yes</td>\n",
       "      <td>Female</td>\n",
       "    </tr>\n",
       "    <tr>\n",
       "      <th>3</th>\n",
       "      <td>1777</td>\n",
       "      <td>Yes</td>\n",
       "      <td>Male</td>\n",
       "    </tr>\n",
       "    <tr>\n",
       "      <th>4</th>\n",
       "      <td>1665</td>\n",
       "      <td>No</td>\n",
       "      <td>Male</td>\n",
       "    </tr>\n",
       "    <tr>\n",
       "      <th>5</th>\n",
       "      <td>1556</td>\n",
       "      <td>Yes</td>\n",
       "      <td>Female</td>\n",
       "    </tr>\n",
       "    <tr>\n",
       "      <th>6</th>\n",
       "      <td>1731</td>\n",
       "      <td>Yes</td>\n",
       "      <td>Female</td>\n",
       "    </tr>\n",
       "    <tr>\n",
       "      <th>7</th>\n",
       "      <td>1809</td>\n",
       "      <td>Yes</td>\n",
       "      <td>Female</td>\n",
       "    </tr>\n",
       "    <tr>\n",
       "      <th>8</th>\n",
       "      <td>1930</td>\n",
       "      <td>Yes</td>\n",
       "      <td>Female</td>\n",
       "    </tr>\n",
       "    <tr>\n",
       "      <th>9</th>\n",
       "      <td>1708</td>\n",
       "      <td>Yes</td>\n",
       "      <td>Male</td>\n",
       "    </tr>\n",
       "    <tr>\n",
       "      <th>10</th>\n",
       "      <td>1970</td>\n",
       "      <td>Yes</td>\n",
       "      <td>Female</td>\n",
       "    </tr>\n",
       "    <tr>\n",
       "      <th>11</th>\n",
       "      <td>2039</td>\n",
       "      <td>Yes</td>\n",
       "      <td>Female</td>\n",
       "    </tr>\n",
       "    <tr>\n",
       "      <th>12</th>\n",
       "      <td>1681</td>\n",
       "      <td>Yes</td>\n",
       "      <td>Female</td>\n",
       "    </tr>\n",
       "    <tr>\n",
       "      <th>13</th>\n",
       "      <td>1444</td>\n",
       "      <td>No</td>\n",
       "      <td>Male</td>\n",
       "    </tr>\n",
       "    <tr>\n",
       "      <th>14</th>\n",
       "      <td>1726</td>\n",
       "      <td>No</td>\n",
       "      <td>Male</td>\n",
       "    </tr>\n",
       "    <tr>\n",
       "      <th>15</th>\n",
       "      <td>1876</td>\n",
       "      <td>Yes</td>\n",
       "      <td>Female</td>\n",
       "    </tr>\n",
       "    <tr>\n",
       "      <th>16</th>\n",
       "      <td>1485</td>\n",
       "      <td>No</td>\n",
       "      <td>Male</td>\n",
       "    </tr>\n",
       "    <tr>\n",
       "      <th>17</th>\n",
       "      <td>1500</td>\n",
       "      <td>No</td>\n",
       "      <td>Female</td>\n",
       "    </tr>\n",
       "    <tr>\n",
       "      <th>18</th>\n",
       "      <td>1900</td>\n",
       "      <td>Yes</td>\n",
       "      <td>Male</td>\n",
       "    </tr>\n",
       "  </tbody>\n",
       "</table>\n",
       "</div>"
      ],
      "text/plain": [
       "     SAT Admitted  Gender\n",
       "0   1323       No    Male\n",
       "1   1725      Yes  Female\n",
       "2   1762      Yes  Female\n",
       "3   1777      Yes    Male\n",
       "4   1665       No    Male\n",
       "5   1556      Yes  Female\n",
       "6   1731      Yes  Female\n",
       "7   1809      Yes  Female\n",
       "8   1930      Yes  Female\n",
       "9   1708      Yes    Male\n",
       "10  1970      Yes  Female\n",
       "11  2039      Yes  Female\n",
       "12  1681      Yes  Female\n",
       "13  1444       No    Male\n",
       "14  1726       No    Male\n",
       "15  1876      Yes  Female\n",
       "16  1485       No    Male\n",
       "17  1500       No  Female\n",
       "18  1900      Yes    Male"
      ]
     },
     "execution_count": 24,
     "metadata": {},
     "output_type": "execute_result"
    }
   ],
   "source": [
    "test = pd.read_csv(r\"E:\\Data Science Material udemy\\data of coding\\2.03.+Test+dataset.csv\")\n",
    "test "
   ]
  },
  {
   "cell_type": "code",
   "execution_count": 25,
   "id": "3ef350c9",
   "metadata": {},
   "outputs": [
    {
     "data": {
      "text/html": [
       "<div>\n",
       "<style scoped>\n",
       "    .dataframe tbody tr th:only-of-type {\n",
       "        vertical-align: middle;\n",
       "    }\n",
       "\n",
       "    .dataframe tbody tr th {\n",
       "        vertical-align: top;\n",
       "    }\n",
       "\n",
       "    .dataframe thead th {\n",
       "        text-align: right;\n",
       "    }\n",
       "</style>\n",
       "<table border=\"1\" class=\"dataframe\">\n",
       "  <thead>\n",
       "    <tr style=\"text-align: right;\">\n",
       "      <th></th>\n",
       "      <th>SAT</th>\n",
       "      <th>Admitted</th>\n",
       "      <th>Gender</th>\n",
       "    </tr>\n",
       "  </thead>\n",
       "  <tbody>\n",
       "    <tr>\n",
       "      <th>0</th>\n",
       "      <td>1323</td>\n",
       "      <td>0</td>\n",
       "      <td>0</td>\n",
       "    </tr>\n",
       "    <tr>\n",
       "      <th>1</th>\n",
       "      <td>1725</td>\n",
       "      <td>1</td>\n",
       "      <td>1</td>\n",
       "    </tr>\n",
       "    <tr>\n",
       "      <th>2</th>\n",
       "      <td>1762</td>\n",
       "      <td>1</td>\n",
       "      <td>1</td>\n",
       "    </tr>\n",
       "    <tr>\n",
       "      <th>3</th>\n",
       "      <td>1777</td>\n",
       "      <td>1</td>\n",
       "      <td>0</td>\n",
       "    </tr>\n",
       "    <tr>\n",
       "      <th>4</th>\n",
       "      <td>1665</td>\n",
       "      <td>0</td>\n",
       "      <td>0</td>\n",
       "    </tr>\n",
       "    <tr>\n",
       "      <th>5</th>\n",
       "      <td>1556</td>\n",
       "      <td>1</td>\n",
       "      <td>1</td>\n",
       "    </tr>\n",
       "    <tr>\n",
       "      <th>6</th>\n",
       "      <td>1731</td>\n",
       "      <td>1</td>\n",
       "      <td>1</td>\n",
       "    </tr>\n",
       "    <tr>\n",
       "      <th>7</th>\n",
       "      <td>1809</td>\n",
       "      <td>1</td>\n",
       "      <td>1</td>\n",
       "    </tr>\n",
       "    <tr>\n",
       "      <th>8</th>\n",
       "      <td>1930</td>\n",
       "      <td>1</td>\n",
       "      <td>1</td>\n",
       "    </tr>\n",
       "    <tr>\n",
       "      <th>9</th>\n",
       "      <td>1708</td>\n",
       "      <td>1</td>\n",
       "      <td>0</td>\n",
       "    </tr>\n",
       "    <tr>\n",
       "      <th>10</th>\n",
       "      <td>1970</td>\n",
       "      <td>1</td>\n",
       "      <td>1</td>\n",
       "    </tr>\n",
       "    <tr>\n",
       "      <th>11</th>\n",
       "      <td>2039</td>\n",
       "      <td>1</td>\n",
       "      <td>1</td>\n",
       "    </tr>\n",
       "    <tr>\n",
       "      <th>12</th>\n",
       "      <td>1681</td>\n",
       "      <td>1</td>\n",
       "      <td>1</td>\n",
       "    </tr>\n",
       "    <tr>\n",
       "      <th>13</th>\n",
       "      <td>1444</td>\n",
       "      <td>0</td>\n",
       "      <td>0</td>\n",
       "    </tr>\n",
       "    <tr>\n",
       "      <th>14</th>\n",
       "      <td>1726</td>\n",
       "      <td>0</td>\n",
       "      <td>0</td>\n",
       "    </tr>\n",
       "    <tr>\n",
       "      <th>15</th>\n",
       "      <td>1876</td>\n",
       "      <td>1</td>\n",
       "      <td>1</td>\n",
       "    </tr>\n",
       "    <tr>\n",
       "      <th>16</th>\n",
       "      <td>1485</td>\n",
       "      <td>0</td>\n",
       "      <td>0</td>\n",
       "    </tr>\n",
       "    <tr>\n",
       "      <th>17</th>\n",
       "      <td>1500</td>\n",
       "      <td>0</td>\n",
       "      <td>1</td>\n",
       "    </tr>\n",
       "    <tr>\n",
       "      <th>18</th>\n",
       "      <td>1900</td>\n",
       "      <td>1</td>\n",
       "      <td>0</td>\n",
       "    </tr>\n",
       "  </tbody>\n",
       "</table>\n",
       "</div>"
      ],
      "text/plain": [
       "     SAT  Admitted  Gender\n",
       "0   1323         0       0\n",
       "1   1725         1       1\n",
       "2   1762         1       1\n",
       "3   1777         1       0\n",
       "4   1665         0       0\n",
       "5   1556         1       1\n",
       "6   1731         1       1\n",
       "7   1809         1       1\n",
       "8   1930         1       1\n",
       "9   1708         1       0\n",
       "10  1970         1       1\n",
       "11  2039         1       1\n",
       "12  1681         1       1\n",
       "13  1444         0       0\n",
       "14  1726         0       0\n",
       "15  1876         1       1\n",
       "16  1485         0       0\n",
       "17  1500         0       1\n",
       "18  1900         1       0"
      ]
     },
     "execution_count": 25,
     "metadata": {},
     "output_type": "execute_result"
    }
   ],
   "source": [
    "test['Admitted'] = test['Admitted'].map({'Yes':1, 'No':0})\n",
    "test['Gender'] = test['Gender'].map({'Female':1, 'Male':0})\n",
    "test "
   ]
  },
  {
   "cell_type": "code",
   "execution_count": null,
   "id": "652f550f",
   "metadata": {},
   "outputs": [],
   "source": []
  }
 ],
 "metadata": {
  "kernelspec": {
   "display_name": "Python 3 (ipykernel)",
   "language": "python",
   "name": "python3"
  },
  "language_info": {
   "codemirror_mode": {
    "name": "ipython",
    "version": 3
   },
   "file_extension": ".py",
   "mimetype": "text/x-python",
   "name": "python",
   "nbconvert_exporter": "python",
   "pygments_lexer": "ipython3",
   "version": "3.9.13"
  }
 },
 "nbformat": 4,
 "nbformat_minor": 5
}
